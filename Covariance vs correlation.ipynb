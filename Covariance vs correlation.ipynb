{
 "cells": [
  {
   "cell_type": "code",
   "execution_count": 1,
   "id": "55c94f48",
   "metadata": {},
   "outputs": [],
   "source": [
    "def covariance(X, Y):\n",
    "    n = len(X)\n",
    "    if n != len(Y):\n",
    "        raise ValueError(\"Lists must have the same length\")\n",
    "    mean_X = sum(X) / n\n",
    "    mean_Y = sum(Y) / n\n",
    "    cov = sum((X[i] - mean_X) * (Y[i] - mean_Y) for i in range(n)) / n\n",
    "    return cov\n"
   ]
  },
  {
   "cell_type": "code",
   "execution_count": 2,
   "id": "48289cef",
   "metadata": {},
   "outputs": [],
   "source": [
    "import math\n",
    "\n",
    "def correlation(X, Y):\n",
    "    cov = covariance(X, Y)\n",
    "    std_dev_X = math.sqrt(sum((x - sum(X) / len(X))**2 for x in X) / len(X))\n",
    "    std_dev_Y = math.sqrt(sum((y - sum(Y) / len(Y))**2 for y in Y) / len(Y))\n",
    "    corr = cov / (std_dev_X * std_dev_Y)\n",
    "    return corr\n"
   ]
  },
  {
   "cell_type": "code",
   "execution_count": 3,
   "id": "3afa4bc2",
   "metadata": {},
   "outputs": [
    {
     "name": "stdout",
     "output_type": "stream",
     "text": [
      "Covariance: -2.0\n",
      "Correlation: -0.9999999999999998\n"
     ]
    }
   ],
   "source": [
    "X = [1, 2, 3, 4, 5]\n",
    "Y = [5, 4, 3, 2, 1]\n",
    "\n",
    "cov = covariance(X, Y)\n",
    "corr = correlation(X, Y)\n",
    "\n",
    "print(\"Covariance:\", cov)\n",
    "print(\"Correlation:\", corr)\n"
   ]
  },
  {
   "cell_type": "code",
   "execution_count": null,
   "id": "8b4dc3bd",
   "metadata": {},
   "outputs": [],
   "source": []
  }
 ],
 "metadata": {
  "kernelspec": {
   "display_name": "Python 3 (ipykernel)",
   "language": "python",
   "name": "python3"
  },
  "language_info": {
   "codemirror_mode": {
    "name": "ipython",
    "version": 3
   },
   "file_extension": ".py",
   "mimetype": "text/x-python",
   "name": "python",
   "nbconvert_exporter": "python",
   "pygments_lexer": "ipython3",
   "version": "3.11.5"
  }
 },
 "nbformat": 4,
 "nbformat_minor": 5
}
